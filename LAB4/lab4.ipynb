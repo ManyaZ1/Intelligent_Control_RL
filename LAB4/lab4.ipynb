{
 "cells": [
  {
   "cell_type": "markdown",
   "id": "09b635cb-075a-4024-ac40-f3e3fa954eb4",
   "metadata": {
    "deletable": false,
    "editable": false,
    "nbgrader": {
     "cell_type": "markdown",
     "checksum": "adde6b34b0f1f07024c3b6ebc5aedcf1",
     "grade": false,
     "grade_id": "cell-672d7a35ed096539",
     "locked": true,
     "schema_version": 3,
     "solution": false,
     "task": false
    }
   },
   "source": [
    "# Intelligent Control (ECE-DK807)\n",
    "\n",
    "## Electrical and Computer Engineering Department, University of Patras Greece\n",
    "\n",
    "**Instructor:** Konstantinos Chazilygeroudis (costashatz@upatras.gr)\n",
    "\n",
    "## Lab 4\n",
    "\n",
    "### Q-learning with continuous states\n",
    "\n",
    "In this lab, we will implement Q-learning but with continuous states and a Q-function approximator. We still need discrete actions. The algorithm goes as follows:\n",
    "\n",
    "1. Initialize $Q_{\\boldsymbol{\\theta}}$\n",
    "2. At every step:\n",
    "   1. we observe the state $\\boldsymbol{s}$\n",
    "   2. we select and execute an action according to our policy $\\boldsymbol{a}\\sim\\pi(\\boldsymbol{s})$\n",
    "   3. we end up at state $\\boldsymbol{s}'$ and receive reward $r$\n",
    "   4. $\\boldsymbol{\\Delta\\theta} = \\alpha\\Big(r + \\gamma\\max_zQ_{\\boldsymbol{\\theta}}(\\boldsymbol{s}',\\boldsymbol{z}) - Q_{\\boldsymbol{\\theta}}(\\boldsymbol{s},\\boldsymbol{a})\\Big)$\n"
   ]
  },
  {
   "cell_type": "code",
   "execution_count": 1,
   "id": "fb107654-74a2-418d-a0da-d0b56cb242ca",
   "metadata": {
    "deletable": false,
    "editable": false,
    "nbgrader": {
     "cell_type": "code",
     "checksum": "c6f8a5c29d79c16318b81462bb3089ba",
     "grade": false,
     "grade_id": "cell-562a31db5ca039bf",
     "locked": true,
     "schema_version": 3,
     "solution": false,
     "task": false
    }
   },
   "outputs": [],
   "source": [
    "# Let's first import modules\n",
    "import numpy as np # Linear Algebra\n",
    "import matplotlib.pyplot as plt # Plotting\n",
    "import copy\n",
    "from collections import deque\n",
    "import torch # neural networks (auto-diff)"
   ]
  },
  {
   "attachments": {
    "c618ed61-7a06-42e6-a054-f6993e7d5134.png": {
     "image/png": "[encoded data removed]"
    }
   },
   "cell_type": "markdown",
   "id": "63be320e-b406-4753-a787-37120c408d2a",
   "metadata": {
    "deletable": false,
    "editable": false,
    "nbgrader": {
     "cell_type": "markdown",
     "checksum": "1abbe1337818c67ad18688ebab0262a6",
     "grade": false,
     "grade_id": "cell-f09b5e587918a37a",
     "locked": true,
     "schema_version": 3,
     "solution": false,
     "task": false
    }
   },
   "source": [
    "![image.png](attachment:c618ed61-7a06-42e6-a054-f6993e7d5134.png)"
   ]
  },
  {
   "cell_type": "code",
   "execution_count": 2,
   "id": "32cc888e-976b-4c06-b115-9f033c6ef4ae",
   "metadata": {
    "deletable": false,
    "editable": false,
    "nbgrader": {
     "cell_type": "code",
     "checksum": "686d1012ce67f19a35bcd5c3ed2f2f34",
     "grade": false,
     "grade_id": "cell-1602c8e51c592e12",
     "locked": true,
     "schema_version": 3,
     "solution": false,
     "task": false
    }
   },
   "outputs": [],
   "source": [
    "# Our system (pendulum)\n",
    "def pendulum_dynamics(x, u):\n",
    "    g = 9.81\n",
    "    l = 1.\n",
    "    m = 1.\n",
    "    x_dot = np.concatenate([x[1:], -(g/l)*np.sin(x[:1]) + 1./(m*l*l)*u], axis=0)\n",
    "    return x_dot\n",
    "\n",
    "def pendulum_rk4(x, u, dt = 0.05):\n",
    "    f1 = pendulum_dynamics(x, u)\n",
    "    f2 = pendulum_dynamics(x + 0.5 * dt * f1, u)\n",
    "    f3 = pendulum_dynamics(x + 0.5 * dt * f2, u)\n",
    "    f4 = pendulum_dynamics(x + dt * f3, u)\n",
    "    x_n = x + (dt/6.)*(f1 + 2. * f2 + 2. * f3 + f4)\n",
    "    return x_n"
   ]
  },
  {
   "cell_type": "code",
   "execution_count": 3,
   "id": "a3536f09-3dfb-4d60-9ec2-9a5e0e749d90",
   "metadata": {
    "deletable": false,
    "editable": false,
    "nbgrader": {
     "cell_type": "code",
     "checksum": "a826f4bceec13f94346ed15e2b7cd1f8",
     "grade": false,
     "grade_id": "cell-0c54c9655bff8cc5",
     "locked": true,
     "schema_version": 3,
     "solution": false,
     "task": false
    }
   },
   "outputs": [],
   "source": [
    "def angle_dist(b, a):\n",
    "    theta = b - a\n",
    "    while theta < -np.pi:\n",
    "        theta += 2. * np.pi\n",
    "    while theta > np.pi:\n",
    "        theta -= 2. * np.pi\n",
    "    return theta"
   ]
  },
  {
   "cell_type": "markdown",
   "id": "3b16218d-6972-451f-85de-1fa6d944e12f",
   "metadata": {
    "deletable": false,
    "editable": false,
    "nbgrader": {
     "cell_type": "markdown",
     "checksum": "6514eb81c0ef0a770d6e73def43c8463",
     "grade": false,
     "grade_id": "cell-dda323c5c03e06e3",
     "locked": true,
     "schema_version": 3,
     "solution": false,
     "task": false
    }
   },
   "source": [
    "We will be using a neural network to model our Q-function. In particular, we are going to use a single hidden layer of ten neurons; we will use ReLU as the activation function for the hidden layer, and no activation in the output layer. We also have:\n",
    "\n",
    "- The state of the system is $\\boldsymbol{s} = \\begin{bmatrix}\\theta\\\\\\dot{\\theta}\\end{bmatrix}$\n",
    "- Since $\\theta$ can wrap around, we will use as input to the Q-function the following transformed state: $\\phi(\\boldsymbol{s}) = \\begin{bmatrix}\\cos\\theta\\\\\\sin\\theta\\\\\\dot{\\theta}\\end{bmatrix}$\n",
    "- Since we have discrete actions, we are going to use an **one-hot vector encoding** as input to the Q-function\n",
    "- Thus, we have in total six (3 for the transformed state, 3 for the one-hot encoding) dimensions for the input to the Q-function"
   ]
  },
  {
   "cell_type": "code",
   "execution_count": 4,
   "id": "6df2461c-c7a9-4a41-a5b4-499c5f86c5af",
   "metadata": {
    "deletable": false,
    "nbgrader": {
     "cell_type": "code",
     "checksum": "c53466f8fd22627b6045803df87b6a2c",
     "grade": false,
     "grade_id": "cell-c7a804a5e2bd38e4",
     "locked": false,
     "schema_version": 3,
     "solution": true,
     "task": false
    }
   },
   "outputs": [],
   "source": [
    "# Properties of the neural newtwork\n",
    "N_input = 6 # (cosθ, sinθ, θdot) + one hot vector for actions\n",
    "N_output = 1 # Output of the Q-function is a scalar\n",
    "H = 10 # H hidden neurons\n",
    "\n",
    "N_actions = 3 # we have 3 discrete actions\n",
    "\n",
    "# MLP Model for the Q function\n",
    "model = torch.nn.Sequential(\n",
    "    ### TO-DO: Create the neural network described above\n",
    "    ### ANSWER: Insert code here\n",
    "    torch.nn.Linear(N_input, H),\n",
    "    torch.nn.ReLU(),\n",
    "    torch.nn.Linear(H, N_output)\n",
    "    ### END of ANSWER\n",
    ")\n",
    "\n",
    "def model_input(s, a):\n",
    "    ### TO-DO: Compute the transformed input (that goes to the neural network) from raw state (s) and action (a)\n",
    "    ### This function should work for batches, and it should return a torch.Tensor of size BxN where B is the batch size and N is the input dimension \n",
    "    ### ANSWER: Insert code here\n",
    "    # If s has shape (B, 3), slice only theta and theta_dot ignore 3 (katala8os)\n",
    "    #print(s.shape)\n",
    "    if s.shape[1] == 3:\n",
    "        s = s[:, :2]\n",
    "\n",
    "    theta = s[:, 0]\n",
    "    theta_dot = s[:, 1]\n",
    "    \n",
    "    cos_theta = torch.cos(theta)\n",
    "    sin_theta = torch.sin(theta)\n",
    "    phi_s = torch.stack([cos_theta, sin_theta, theta_dot], dim=1)  # shape (B, 3)\n",
    "\n",
    "    # Make 'a' a tensor\n",
    "    if isinstance(a, int):\n",
    "        a = torch.tensor([a], dtype=torch.long, device=s.device)\n",
    "    elif isinstance(a, list):\n",
    "        a = torch.tensor(a, dtype=torch.long, device=s.device)\n",
    "    else:\n",
    "        a = a.to(dtype=torch.long, device=s.device)\n",
    "    #make one hot vector\n",
    "    one_hot_a = torch.nn.functional.one_hot(a, num_classes=3).float()  # shape (B, 3)\n",
    "    #print(one_hot_a.shape)\n",
    "\n",
    "    return torch.cat([phi_s, one_hot_a], dim=1)  # shape (B, 6) N=6 ALWAYS AND B IS THE BATCH SIZE\n",
    "    ### END of ANSWER\n",
    "\n",
    "def best_action(s):\n",
    "    ### TO-DO: Select the best action given state, s, and the Q-function (global variable `model`)\n",
    "    ### This function should work for batches, and it should return a torch.LongTensor of size B (batch_size)\n",
    "    ### ANSWER: Insert code here\n",
    "    B = s.shape[0]\n",
    "\n",
    "    q_values = []\n",
    "\n",
    "    for action in range(3):  # N_actions = 3\n",
    "        a = torch.full((B,), action, dtype=torch.long, device=s.device)\n",
    "        x = model_input(s, a)          # shape (B, 6)\n",
    "        q = model(x).squeeze(1)        # shape (B,)\n",
    "        q_values.append(q)\n",
    "\n",
    "    # Stack Q-values for all actions: shape (B, 3)\n",
    "    q_stack = torch.stack(q_values, dim=1)\n",
    "\n",
    "    # Best action = argmax over actions\n",
    "    return torch.argmax(q_stack, dim=1)\n",
    "    ### END of ANSWER\n",
    "\n",
    "# Policy given the Q-function\n",
    "def pi(s, behavior=\"greedy\", epsilon=0.1):\n",
    "    ### ε-greedy policy\n",
    "    if behavior == \"greedy\" or torch.rand(1).item() > epsilon:\n",
    "        return best_action(s)\n",
    "    return torch.LongTensor(torch.randint(low=0, high=N_actions, size=(s.size(0),)))"
   ]
  },
  {
   "cell_type": "code",
   "execution_count": 5,
   "id": "32c7b0e9-8638-477c-8af2-8e63230c4c15",
   "metadata": {
    "deletable": false,
    "editable": false,
    "nbgrader": {
     "cell_type": "code",
     "checksum": "387cf033a34cd41e048801801e60b5b9",
     "grade": true,
     "grade_id": "cell-ae4f097f52b7abde",
     "locked": true,
     "points": 2,
     "schema_version": 3,
     "solution": false,
     "task": false
    }
   },
   "outputs": [],
   "source": [
    "params = list(model.named_parameters())\n",
    "assert(params[0][1].size() == torch.Size([10, 6]))\n",
    "assert(params[2][1].size() == torch.Size([1, 10]))\n"
   ]
  },
  {
   "cell_type": "code",
   "execution_count": 6,
   "id": "de84e960-4a3c-42df-a045-7621d816615b",
   "metadata": {
    "deletable": false,
    "editable": false,
    "nbgrader": {
     "cell_type": "code",
     "checksum": "c75787dceb586957b72c9342c01486e5",
     "grade": true,
     "grade_id": "cell-61fe23095512620d",
     "locked": true,
     "points": 4,
     "schema_version": 3,
     "solution": false,
     "task": false
    }
   },
   "outputs": [],
   "source": [
    "torch.manual_seed(20) # Fixed seed for testing\n",
    "s1 = torch.randn(1, 3)\n",
    "a1 = 1\n",
    "ss1 = torch.Tensor([[0.3567, -0.9342,  0.0617,  0.0000,  1.0000,  0.0000]])\n",
    "assert(torch.isclose(model_input(s1, a1), ss1, rtol=1e-3).all())\n",
    "\n",
    "s2 = torch.randn(20, 3)\n",
    "a2 = torch.randint(low=0, high=N_actions, size=(s2.size(0),)).tolist()\n",
    "ss2 = torch.Tensor([[ 0.8294, -0.5586, -2.1657,  0.0000,  1.0000,  0.0000], [ 0.6627,  0.7489, -0.5503,  0.0000,  1.0000,  0.0000], [-0.0240,  0.9997,  0.1684,  0.0000,  0.0000,  1.0000], [ 0.6888,  0.7249, -0.3083,  0.0000,  1.0000,  0.0000], [-0.6843, -0.7292,  0.6860,  0.0000,  1.0000,  0.0000], [ 0.3291,  0.9443,  0.7651,  1.0000,  0.0000,  0.0000], [ 0.7563, -0.6542, -0.7576,  0.0000,  1.0000,  0.0000], [-0.1378, -0.9905,  0.1217,  1.0000,  0.0000,  0.0000], [ 0.7118, -0.7024,  0.5549,  1.0000,  0.0000,  0.0000], [ 0.0938,  0.9956,  1.1124,  0.0000,  1.0000,  0.0000], [ 0.5568,  0.8306, -0.3072,  0.0000,  0.0000,  1.0000], [ 0.1985,  0.9801,  0.5297,  0.0000,  0.0000,  1.0000], [ 0.1421, -0.9898,  0.0087,  1.0000,  0.0000,  0.0000], [ 0.9687,  0.2483,  1.1616,  0.0000,  0.0000,  1.0000], [ 0.9855,  0.1696, -0.1926,  0.0000,  1.0000,  0.0000], [ 0.7119,  0.7023, -0.5311,  1.0000,  0.0000,  0.0000], [ 0.7004, -0.7137,  1.7783,  1.0000,  0.0000,  0.0000], [ 0.8719, -0.4898,  0.0803,  0.0000,  0.0000,  1.0000], [ 0.9995,  0.0302, -2.3601,  1.0000,  0.0000,  0.0000], [ 0.9856,  0.1692, -1.5470,  1.0000,  0.0000,  0.0000]])\n",
    "assert(torch.isclose(model_input(s2, a2), ss2, rtol=1e-3, atol=1e-4).all())\n",
    "\n",
    "s3 = torch.randn(30, 3)\n",
    "a3 = torch.randint(low=0, high=N_actions, size=(s3.size(0),))\n",
    "ss3 = torch.Tensor([[ 0.7581,  0.6522, -0.7197,  0.0000,  0.0000,  1.0000], [ 0.2446,  0.9696,  0.7110,  1.0000,  0.0000,  0.0000], [ 0.1876, -0.9823,  1.7299,  0.0000,  0.0000,  1.0000], [ 0.9712,  0.2385, -0.2449,  1.0000,  0.0000,  0.0000], [ 0.9858, -0.1678,  0.2678,  1.0000,  0.0000,  0.0000], [ 0.9980,  0.0626,  0.6465,  0.0000,  0.0000,  1.0000], [ 0.6184, -0.7859, -1.8551,  0.0000,  1.0000,  0.0000], [ 0.9370, -0.3493, -0.3016,  1.0000,  0.0000,  0.0000], [ 0.8257,  0.5641, -2.5927,  1.0000,  0.0000,  0.0000], [ 0.7754,  0.6315,  0.8004,  0.0000,  0.0000,  1.0000], [-0.2842, -0.9588, -2.5038,  0.0000,  1.0000,  0.0000], [ 0.9972, -0.0741,  1.0900,  0.0000,  0.0000,  1.0000], [ 0.9985, -0.0552,  0.6968,  1.0000,  0.0000,  0.0000], [ 0.9654, -0.2609,  1.2086,  0.0000,  1.0000,  0.0000], [ 0.8110, -0.5851,  0.8551,  0.0000,  1.0000,  0.0000], [ 0.8831, -0.4693, -0.0717,  0.0000,  0.0000,  1.0000], [-0.1258, -0.9921,  0.2936,  0.0000,  1.0000,  0.0000], [ 0.7526, -0.6585, -1.1449,  0.0000,  0.0000,  1.0000], [ 0.4615, -0.8871,  1.1617,  0.0000,  1.0000,  0.0000], [ 0.7045,  0.7097,  0.5226,  0.0000,  0.0000,  1.0000], [ 0.5474, -0.8369,  0.0080,  0.0000,  1.0000,  0.0000], [ 0.9899,  0.1415, -0.3260,  0.0000,  0.0000,  1.0000], [ 0.6291,  0.7773,  0.4013,  0.0000,  1.0000,  0.0000], [ 0.0942, -0.9956,  0.0690,  0.0000,  0.0000,  1.0000], [ 0.9950, -0.1000,  1.0036,  0.0000,  0.0000,  1.0000], [ 0.9875,  0.1573, -0.5776,  1.0000,  0.0000,  0.0000], [ 0.8383, -0.5452, -1.6220,  0.0000,  1.0000,  0.0000], [ 0.4719, -0.8817, -1.5315,  0.0000,  0.0000,  1.0000], [-0.7442, -0.6679, -0.7238,  1.0000,  0.0000,  0.0000], [ 0.2234, -0.9747,  0.6636,  1.0000,  0.0000,  0.0000]])\n",
    "assert(torch.isclose(model_input(s3, a3), ss3, rtol=1e-3, atol=1e-4).all())"
   ]
  },
  {
   "cell_type": "code",
   "execution_count": 7,
   "id": "2e291a2f-e9e1-4e5f-a2e5-a72c75206f57",
   "metadata": {
    "deletable": false,
    "editable": false,
    "nbgrader": {
     "cell_type": "code",
     "checksum": "85770a684de6972fa6e89088075f42c6",
     "grade": true,
     "grade_id": "cell-1f618c49b45fbd84",
     "locked": true,
     "points": 4,
     "schema_version": 3,
     "solution": false,
     "task": false
    }
   },
   "outputs": [],
   "source": [
    "torch.manual_seed(40) # Fixed seed for testing\n",
    "old_params = torch.nn.utils.parameters_to_vector(model.parameters())\n",
    "params = torch.randn_like(old_params)\n",
    "torch.nn.utils.vector_to_parameters(params, model.parameters())\n",
    "\n",
    "s1 = torch.randn(1, 3)\n",
    "assert(best_action(s1).item() == 1)\n",
    "\n",
    "s2 = torch.randn(20, 3)\n",
    "o1 = torch.LongTensor([1, 1, 1, 1, 0, 0, 0, 1, 0, 1, 0, 1, 0, 1, 1, 1, 1, 1, 1, 1])\n",
    "assert(torch.isclose(best_action(s2), o1).all())\n",
    "\n",
    "s3 = torch.randn(30, 3)\n",
    "o2 = torch.LongTensor([1, 1, 1, 1, 0, 0, 1, 1, 0, 1, 0, 0, 1, 1, 1, 1, 1, 0, 1, 1, 1, 0, 0, 1, 1, 1, 1, 0, 1, 1])\n",
    "assert(torch.isclose(best_action(s3), o2).all())\n",
    "\n",
    "torch.nn.utils.vector_to_parameters(old_params, model.parameters())"
   ]
  },
  {
   "cell_type": "markdown",
   "id": "5a610527-855f-4ea6-bcad-87b4c04218b9",
   "metadata": {
    "deletable": false,
    "editable": false,
    "nbgrader": {
     "cell_type": "markdown",
     "checksum": "42a524460a5146ce0bc7adfcc1de64b1",
     "grade": false,
     "grade_id": "cell-bceb4c6232c56a4f",
     "locked": true,
     "schema_version": 3,
     "solution": false,
     "task": false
    }
   },
   "source": [
    "We will be using the Adam optimizer, $\\gamma=1$ and $\\epsilon=0.1$."
   ]
  },
  {
   "cell_type": "code",
   "execution_count": 8,
   "id": "f84612ce-d55d-41e6-8b1e-5d1eaeb1a211",
   "metadata": {
    "deletable": false,
    "editable": false,
    "nbgrader": {
     "cell_type": "code",
     "checksum": "b479d0be05628bb07e057c835fe937ce",
     "grade": false,
     "grade_id": "cell-e338b89a03bb39f4",
     "locked": true,
     "schema_version": 3,
     "solution": false,
     "task": false
    }
   },
   "outputs": [],
   "source": [
    "# create an optimizer\n",
    "learning_rate = 5e-3\n",
    "optimizer = torch.optim.Adam(model.parameters(), lr=learning_rate)\n",
    "# initialize gamma and stats\n",
    "gamma = 1.\n",
    "epsilon = 0.1\n",
    "n_episode = 1\n",
    "returns = deque(maxlen=200)"
   ]
  },
  {
   "cell_type": "markdown",
   "id": "7440b7cd-35c0-4216-b151-1e550921d5a5",
   "metadata": {
    "deletable": false,
    "editable": false,
    "nbgrader": {
     "cell_type": "markdown",
     "checksum": "3ba376943da48e160296571672c80358",
     "grade": false,
     "grade_id": "cell-b06178bf9352e05c",
     "locked": true,
     "schema_version": 3,
     "solution": false,
     "task": false
    }
   },
   "source": [
    "Let's now create a function `run_episode` that runs a full episode starting from $x_{init}$ and uses the current policy/Q-function. It also updates the Q-function per step if asked."
   ]
  },
  {
   "cell_type": "code",
   "execution_count": 9,
   "id": "34348b5b-e735-4a44-b6c9-c498555fcbf5",
   "metadata": {
    "deletable": false,
    "nbgrader": {
     "cell_type": "code",
     "checksum": "bbb576c93ac638ac35b33f3483e15af8",
     "grade": false,
     "grade_id": "cell-a98649a39dbac543",
     "locked": false,
     "schema_version": 3,
     "solution": true,
     "task": false
    }
   },
   "outputs": [],
   "source": [
    "def run_episode(x_init, epsilon = 0.1, update = True):\n",
    "    ### The function runs a full episode starting from $x_{init}$\n",
    "    ### `epsilon` should be used for the ε-greedy policy\n",
    "    ### if `update` is True, then we should use the Q-learning update rule to update the model at each timestep\n",
    "    # Max torque/velocity\n",
    "    max_torque = 2.\n",
    "    max_vel = 3.\n",
    "\n",
    "    states = []\n",
    "    actions = []\n",
    "    rewards = []\n",
    "    # reset environment\n",
    "    x_pendulum = np.copy(x_init)\n",
    "\n",
    "    n_steps = 0\n",
    "    import random\n",
    "    while True:\n",
    "        state = torch.Tensor(x_pendulum).reshape((1, -1)) # current state to torch.Tensor\n",
    "        ### TO-DO: Use the policy (`pi` function) to get a stochastic (ε-greedy policy) action.\n",
    "        ### You should store the result in a variable named `action`\n",
    "        ### ANSWER: Insert code here\n",
    "        ### ε-greedy policy\n",
    "        action = pi(state, \"stochastic\", epsilon)\n",
    "        ### END of ANSWER\n",
    "\n",
    "        # use that action in the environment\n",
    "        u = 0.\n",
    "        if action.item() == 1:\n",
    "            u = max_torque\n",
    "        elif action.item() == 2:\n",
    "            u = -max_torque\n",
    "        # step the environment\n",
    "        x_new = pendulum_rk4(x_pendulum, u)\n",
    "        x_new[1, 0] = max(-max_vel, min(max_vel, x_new[1, 0]))\n",
    "        reward = 1.\n",
    "        done = abs(angle_dist(np.pi, x_new[0, 0])) > 0.349066\n",
    "        # store reward\n",
    "        rewards.append(reward)\n",
    "\n",
    "        ### TO-DO: Update Q-function if asked\n",
    "        if update:\n",
    "            ### TO-DO: Write the Q-learning update as described in the algorithm\n",
    "            ### ANSWER: Insert code here\n",
    "            next_state = torch.tensor(x_new, dtype=torch.float32).reshape(1, -1)\n",
    "\n",
    "            # Compute Q(s, a)\n",
    "            x_input = model_input(state, action)  # (1, 6)\n",
    "            q_value = model(x_input)              # (1, 1)\n",
    "\n",
    "            # Compute target: r + γ * max_a' Q(s', a')\n",
    "            with torch.no_grad():\n",
    "                next_best_action = best_action(next_state)       # (1,)\n",
    "                next_input = model_input(next_state, next_best_action)  # (1, 6)\n",
    "                q_next = model(next_input)                       # (1, 1)\n",
    "                target = reward + gamma * q_next * (0 if done else 1)\n",
    "\n",
    "            # Compute loss and update model\n",
    "            loss = torch.nn.functional.mse_loss(q_value, target)\n",
    "\n",
    "            optimizer.zero_grad()\n",
    "            loss.backward()\n",
    "            optimizer.step()\n",
    "            ### END of ANSWER\n",
    "        states.append(state)\n",
    "        actions.append(action.item())\n",
    "\n",
    "        x_pendulum = np.copy(x_new)\n",
    "\n",
    "        if n_steps > 80 or done:\n",
    "            break\n",
    "        n_steps += 1\n",
    "\n",
    "    return rewards"
   ]
  },
  {
   "cell_type": "code",
   "execution_count": 11,
   "id": "4aadd397-6e2b-4e35-81eb-1a0e827ee086",
   "metadata": {
    "deletable": false,
    "editable": false,
    "nbgrader": {
     "cell_type": "code",
     "checksum": "6f586d2212cc27dd5415d2729cd09edc",
     "grade": true,
     "grade_id": "cell-de8255b16469131b",
     "locked": true,
     "points": 4,
     "schema_version": 3,
     "solution": false,
     "task": false
    }
   },
   "outputs": [],
   "source": [
    "torch.manual_seed(90) # Fixed seed for testing\n",
    "old_params = torch.nn.utils.parameters_to_vector(model.parameters())\n",
    "params = torch.randn_like(old_params)\n",
    "torch.nn.utils.vector_to_parameters(params, model.parameters())\n",
    "\n",
    "x_init = np.array([[np.pi, 0.]]).T\n",
    "rw = run_episode(x_init, update=False)\n",
    "assert(len(rw) == 21)\n",
    "assert(sum(rw) == 21)\n",
    "\n",
    "optimizer = torch.optim.Adam(model.parameters(), lr=learning_rate)\n",
    "\n",
    "rw = run_episode(x_init, update=True)\n",
    "assert(len(rw) == 67)\n",
    "assert(sum(rw) == 67)\n",
    "\n",
    "final_params = torch.nn.utils.parameters_to_vector(model.parameters())\n",
    "assert(torch.isclose(torch.sum(final_params), torch.Tensor([-5.02]), rtol=1e-2))\n",
    "\n",
    "torch.nn.utils.vector_to_parameters(old_params, model.parameters())"
   ]
  },
  {
   "cell_type": "code",
   "execution_count": 12,
   "id": "8ae66acd-0967-47fc-97e7-4b98528f2207",
   "metadata": {
    "deletable": false,
    "editable": false,
    "nbgrader": {
     "cell_type": "code",
     "checksum": "482953a80e9e63fb2237d126a41b667a",
     "grade": false,
     "grade_id": "cell-d0b7eede5aefd5cb",
     "locked": true,
     "schema_version": 3,
     "solution": false,
     "task": false
    }
   },
   "outputs": [
    {
     "name": "stdout",
     "output_type": "stream",
     "text": [
      "Episode:      1\tAvg. Return:  11.00\tSteps:     11\n",
      "Episode:    200\tAvg. Return:  25.57\tSteps:   5113\n",
      "Episode:    400\tAvg. Return:  62.50\tSteps:  17613\n",
      "Episode:    600\tAvg. Return:  66.17\tSteps:  30847\n"
     ]
    }
   ],
   "source": [
    "# Let's run the Q-learning procedure\n",
    "# reset Adam\n",
    "optimizer = torch.optim.Adam(model.parameters(), lr=learning_rate)\n",
    "\n",
    "x_pendulum = np.array([[np.pi, 0.]]).T\n",
    "x_init = np.copy(x_pendulum)\n",
    "\n",
    "all_returns = []\n",
    "smoothed_returns = []\n",
    "smoothed_return = None\n",
    "max_steps = 500 * 82\n",
    "total_steps = 0\n",
    "while total_steps < max_steps:\n",
    "    rewards = run_episode(x_init, epsilon, True)\n",
    "    total_steps += len(rewards)\n",
    "\n",
    "    # preprocess rewards\n",
    "    rewards = np.array(rewards)\n",
    "    all_returns += [np.sum(rewards)]\n",
    "    alpha = 0.6\n",
    "    if smoothed_return is None:\n",
    "        smoothed_return = all_returns[-1]\n",
    "    smoothed_return = alpha * smoothed_return + (1. - alpha) * all_returns[-1]\n",
    "    smoothed_returns += [smoothed_return]\n",
    "\n",
    "    # calculate average return and print it out\n",
    "    returns.append(np.sum(rewards))\n",
    "    if n_episode % 200 == 0 or n_episode == 1:\n",
    "        print(\"Episode: {:6d}\\tAvg. Return: {:6.2f}\\tSteps: {:6d}\".format(n_episode, np.mean(returns), total_steps))\n",
    "    n_episode += 1"
   ]
  },
  {
   "cell_type": "code",
   "execution_count": 15,
   "id": "5e63c167-22f2-4f12-a6a8-68605c1a8446",
   "metadata": {
    "deletable": false,
    "editable": false,
    "nbgrader": {
     "cell_type": "code",
     "checksum": "dc6755c6a09df9682d14d6937a86104c",
     "grade": false,
     "grade_id": "cell-137935f6c192aaf6",
     "locked": true,
     "schema_version": 3,
     "solution": false,
     "task": false
    }
   },
   "outputs": [
    {
     "data": {
      "image/png": "[encoded data removed]",
      "text/plain": [
       "<Figure size 640x480 with 1 Axes>"
      ]
     },
     "metadata": {},
     "output_type": "display_data"
    }
   ],
   "source": [
    "# Plot learning curve\n",
    "fig, ax = plt.subplots(1, 1)\n",
    "\n",
    "xx = np.arange(len(all_returns))\n",
    "\n",
    "ax.plot(xx, all_returns, label=\"Raw returns\")\n",
    "ax.plot(xx, smoothed_returns, label=\"Smoothed returns\")\n",
    "\n",
    "ax.legend()\n",
    "\n",
    "plt.show()"
   ]
  },
  {
   "cell_type": "code",
   "execution_count": 13,
   "id": "dc569a13-fa47-4d58-bed7-640389d62f89",
   "metadata": {
    "deletable": false,
    "editable": false,
    "nbgrader": {
     "cell_type": "code",
     "checksum": "328957872f88fd6cbcdd885b763178b2",
     "grade": false,
     "grade_id": "cell-216ec0216e62328b",
     "locked": true,
     "schema_version": 3,
     "solution": false,
     "task": false
    }
   },
   "outputs": [
    {
     "name": "stdout",
     "output_type": "stream",
     "text": [
      "82.0\n"
     ]
    }
   ],
   "source": [
    "# Run episode without exploration\n",
    "rewards = run_episode(x_init, 0., False)\n",
    "\n",
    "print(np.sum(rewards))"
   ]
  }
 ],
 "metadata": {
  "kernelspec": {
   "display_name": "Python 3",
   "language": "python",
   "name": "python3"
  },
  "language_info": {
   "codemirror_mode": {
    "name": "ipython",
    "version": 3
   },
   "file_extension": ".py",
   "mimetype": "text/x-python",
   "name": "python",
   "nbconvert_exporter": "python",
   "pygments_lexer": "ipython3",
   "version": "3.11.2"
  }
 },
 "nbformat": 4,
 "nbformat_minor": 5
}
