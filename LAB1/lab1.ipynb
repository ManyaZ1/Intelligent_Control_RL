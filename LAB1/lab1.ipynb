{
 "cells": [
  {
   "cell_type": "markdown",
   "id": "8ddd9b78-aafd-4415-9ff9-ebb581f79bb0",
   "metadata": {
    "deletable": false,
    "editable": false,
    "nbgrader": {
     "cell_type": "markdown",
     "checksum": "9d727833def44ba1cf466b846561c504",
     "grade": false,
     "grade_id": "cell-54c7aa4390477ca8",
     "locked": true,
     "schema_version": 3,
     "solution": false,
     "task": false
    }
   },
   "source": [
    "# Intelligent Control (ECE-DK807)\n",
    "\n",
    "## Electrical and Computer Engineering Department, University of Patras Greece\n",
    "\n",
    "**Instructor:** Konstantinos Chazilygeroudis (costashatz@upatras.gr)\n",
    "\n",
    "## Lab 1\n",
    "\n",
    "### 2D Grid World\n",
    "\n",
    "<img src=\"my_image.png\" width=\"200\"/>\n",
    "\n",
    "- S (blue) is the starting position\n",
    "- G (green) is the goal\n",
    "- Red cells are lava\n",
    "\n",
    "At each timestep, the agent can be in only one cell. The agent has available the following actions:\n",
    "\n",
    "1. Move Up\n",
    "2. Move Down\n",
    "3. Move Right\n",
    "4. Move Left\n",
    "\n",
    "If a move would make the agent go \"out of bounds\", then the move has no effect and the agent remains in place. The agent receives the following rewards:\n",
    "\n",
    "- $-1$ for each step\n",
    "- $-10$ for stepping on lava\n",
    "- $50$ for stepping on goal\n",
    "\n",
    "The environment \"stops\" when the agent reaches the goal or steps on lava.\n",
    "\n",
    "We first need to define the *Markov Decision Process* (MDP) for this problem/world."
   ]
  },
  {
   "cell_type": "code",
   "execution_count": 18,
   "id": "c5172bf5-66eb-4cb1-a4fe-d0f616c3508b",
   "metadata": {
    "deletable": false,
    "editable": false,
    "nbgrader": {
     "cell_type": "code",
     "checksum": "808b8d333fd2187a197a824797467253",
     "grade": false,
     "grade_id": "cell-0a0217eb3f5d7c82",
     "locked": true,
     "schema_version": 3,
     "solution": false,
     "task": false
    }
   },
   "outputs": [],
   "source": [
    "# Let's first import modules\n",
    "import numpy as np # Linear Algebra\n",
    "import matplotlib.pyplot as plt # Plotting\n",
    "import copy"
   ]
  },
  {
   "cell_type": "markdown",
   "id": "11e6de50-f7a7-4358-804e-6caf9df3d383",
   "metadata": {
    "deletable": false,
    "editable": false,
    "nbgrader": {
     "cell_type": "markdown",
     "checksum": "8c37b0fd6163e1f302e05a3492d85353",
     "grade": false,
     "grade_id": "cell-3aab62cf45aac8b1",
     "locked": true,
     "schema_version": 3,
     "solution": false,
     "task": false
    }
   },
   "source": [
    "<img src=\"im2.png\" width=\"200\"/>"
   ]
  },
  {
   "cell_type": "code",
   "execution_count": 19,
   "id": "fe3c713b-75f1-4be5-84c2-35ed102b1b79",
   "metadata": {
    "deletable": false,
    "nbgrader": {
     "cell_type": "code",
     "checksum": "228b00b2dbb7ca8ab313862435f2c6f5",
     "grade": false,
     "grade_id": "cell-207b5439bff8c8a3",
     "locked": false,
     "schema_version": 3,
     "solution": true,
     "task": false
    }
   },
   "outputs": [],
   "source": [
    "### TO-DO: Define the state space. We want to define each cell with a tuple (i,j), \n",
    "# and we want to save all cells/states in a list called 'states'.\n",
    "### ANSWER: Insert code here\n",
    "states=[]\n",
    "for i in range(4):\n",
    "    for j in range(4):\n",
    "        s=(i,j)\n",
    "        states.append(s)\n",
    "#print(states)\n",
    "### END of ANSWER\n",
    "\n",
    "# Helper function that returns true when a cell is lava\n",
    "def is_lava(s):\n",
    "    return (s == (1, 1) or s == (1, 2))\n",
    "\n",
    "# Helper function that returns true when a cell is terminal\n",
    "def is_terminal(s):\n",
    "    return (s == (3, 3))\n",
    "\n",
    "### TO-DO: Define the action space. This is a list of all possible actions.\n",
    "#  Save it in a variable named 'actions'.\n",
    "### ANSWER: Insert code here\n",
    "a1,a2,a3,a4=\"Move Up\",\"Move Left\",\"Move Right\",\"Move Down\"\n",
    "actions=[a1,a2,a3,a4]\n",
    "#print(actions)\n",
    "### END of ANSWER\n",
    "\n",
    "# Let's define the transition table\n",
    "transition = {}\n",
    "# We initial all to zeros\n",
    "for s in states:\n",
    "    for a in actions:\n",
    "        for sp in states:\n",
    "            transition[(s, a, sp)] = 0.\n",
    "### TO-DO: Fill all actions\n",
    "### ANSWER: Insert code here\n",
    "for s in states:\n",
    "    for a in actions:\n",
    "        sp=s\n",
    "        if is_terminal(s):\n",
    "            sp=s\n",
    "        elif is_lava(s):\n",
    "            sp=s\n",
    "        elif a==a1: #up\n",
    "            if s[0]>0: sp=(s[0]-1,s[1])\n",
    "        elif a==a2: #left\n",
    "            if s[1]>0: sp=(s[0],s[1]-1)\n",
    "        elif a==a3: #right\n",
    "            if s[1]<3: sp=(s[0],s[1]+1)\n",
    "        elif a==a4: #down\n",
    "            if s[0]<3: sp=(s[0]+1,s[1])\n",
    "        transition[(s, a, sp)] = 1.\n",
    "#print(transition)\n",
    "### END of ANSWER\n",
    "\n",
    "# Let's define the reward table/function\n",
    "reward = {}\n",
    "for s in states:\n",
    "    ### TO-DO: Fill with values\n",
    "    ### ANSWER: Insert code here\n",
    "    if is_lava(s):\n",
    "        reward[s]=-10.\n",
    "    elif is_terminal(s):\n",
    "        reward[s]=50.\n",
    "    else:\n",
    "        reward[s]=-1.\n",
    "    ### END of ANSWER\n",
    "\n",
    "def return_next_state(s,a):\n",
    "    sp=s\n",
    "    if is_terminal(s):\n",
    "        sp=s\n",
    "    elif is_lava(s):\n",
    "        sp=s\n",
    "    elif a==a1: #up\n",
    "        if s[0]>0: sp=(s[0]-1,s[1])\n",
    "    elif a==a2: #left\n",
    "        if s[1]>0: sp=(s[0],s[1]-1)\n",
    "    elif a==a3: #right\n",
    "        if s[1]<3: sp=(s[0],s[1]+1)\n",
    "    elif a==a4: #down\n",
    "        if s[0]<3: sp=(s[0]+1,s[1])\n",
    "    return sp"
   ]
  },
  {
   "cell_type": "code",
   "execution_count": 20,
   "id": "809f4903-e98d-4e28-95ba-24ca20314ebf",
   "metadata": {
    "deletable": false,
    "editable": false,
    "nbgrader": {
     "cell_type": "code",
     "checksum": "15a24b47a0f2e73a432b5aaa221329b5",
     "grade": true,
     "grade_id": "cell-3a90b8561dbb0064",
     "locked": true,
     "points": 2,
     "schema_version": 3,
     "solution": false,
     "task": false
    }
   },
   "outputs": [],
   "source": [
    "assert(len(states) == 16)\n",
    "assert(len(actions) == 4)\n",
    "assert(reward[(2, 1)] == -1.)\n",
    "assert(reward[(1, 1)] == reward[(1, 2)] == -10.)\n",
    "assert(reward[(3, 3)] == 50.)\n",
    "assert(len(transition) == 1024)\n"
   ]
  },
  {
   "cell_type": "markdown",
   "id": "39f1a05b-4377-4b80-902e-ef6f255b4a5b",
   "metadata": {
    "deletable": false,
    "editable": false,
    "nbgrader": {
     "cell_type": "markdown",
     "checksum": "d3cc71d2e80cea764cec042997c4e872",
     "grade": false,
     "grade_id": "cell-132e907aeb2ee579",
     "locked": true,
     "schema_version": 3,
     "solution": false,
     "task": false
    }
   },
   "source": [
    "### Iterative Policy Evaluation (IPE)\n",
    "\n",
    "**Goal:** We want to find the *Value function* $V_{\\pi}(\\boldsymbol{s})$ of a *specific* policy $\\pi$.\n",
    "\n",
    "Very simple algorithm:\n",
    "\n",
    "- Iterative application of the Bellman expectation equations\n",
    "- At each iteration we get closer to the actual Value function\n",
    "- At each iteration $k+1$:\n",
    "  - For all states $\\boldsymbol{s}\\in\\mathcal{S}$\n",
    "  - Compute $V_{\\pi}^{k+1}$ using $V_{\\pi}^k$: $V_{\\pi}^{k+1}(\\boldsymbol{s}) = \\sum_{\\boldsymbol{a}\\in\\mathcal{A}}\\pi(\\boldsymbol{a}|\\boldsymbol{s})\\Big(R(\\boldsymbol{s},\\boldsymbol{a}) + \\gamma\\sum_{\\boldsymbol{s}'\\in\\mathcal{S}}P(\\boldsymbol{s},\\boldsymbol{a},\\boldsymbol{s}')V_{\\pi}^k(\\boldsymbol{s}')\\Big)$\n",
    "- We can prove that this converges to the true Value function\n",
    "\n",
    "\n",
    "**Let's implement IPE for our 2D grid world and the random policy.** Let's start by creating a function for the policy:"
   ]
  },
  {
   "cell_type": "code",
   "execution_count": 22,
   "id": "3cce1ae9-7e9b-4b5c-8cfe-b3bd551a151a",
   "metadata": {
    "deletable": false,
    "editable": false,
    "nbgrader": {
     "cell_type": "code",
     "checksum": "9eee26bfdccffc496dde169d40605d61",
     "grade": false,
     "grade_id": "cell-009ab696c52aed28",
     "locked": true,
     "schema_version": 3,
     "solution": false,
     "task": false
    }
   },
   "outputs": [],
   "source": [
    "# Uniform policy\n",
    "policy = {}\n",
    "# Let's create a uniform random policy\n",
    "for s in states:\n",
    "    for a in actions:\n",
    "        policy[(s, a)] = 1. / float(len(actions))"
   ]
  },
  {
   "cell_type": "markdown",
   "id": "fda35b08-6085-44e0-a196-29d24e5f9688",
   "metadata": {
    "deletable": false,
    "editable": false,
    "nbgrader": {
     "cell_type": "markdown",
     "checksum": "c2f345debb30a253b3b84a691af561db",
     "grade": false,
     "grade_id": "cell-7d80d5be36b17454",
     "locked": true,
     "schema_version": 3,
     "solution": false,
     "task": false
    }
   },
   "source": [
    "Now let's create a function that computes $V_{\\pi}^{k+1}$ using $V_{\\pi}^k$: $V_{\\pi}^{k+1}(\\boldsymbol{s}) = \\sum_{\\boldsymbol{a}\\in\\mathcal{A}}\\pi(\\boldsymbol{a}|\\boldsymbol{s})\\Big(R(\\boldsymbol{s},\\boldsymbol{a}) + \\gamma\\sum_{\\boldsymbol{s}'\\in\\mathcal{S}}P(\\boldsymbol{s},\\boldsymbol{a},\\boldsymbol{s}')V_{\\pi}^k(\\boldsymbol{s}')\\Big)$. In other words, performs one iteration of the IPE algorithm:"
   ]
  },
  {
   "cell_type": "code",
   "execution_count": null,
   "id": "ed1515c7-d917-4306-8bdc-69727a32755b",
   "metadata": {
    "deletable": false,
    "nbgrader": {
     "cell_type": "code",
     "checksum": "293410cfaf92121dba797a5723b8f967",
     "grade": false,
     "grade_id": "cell-3cd58e1767dc5b51",
     "locked": false,
     "schema_version": 3,
     "solution": true,
     "task": false
    }
   },
   "outputs": [],
   "source": [
    "def ipe_iter(Vk, gamma = 0.9):\n",
    "    Vkp1 = copy.copy(Vk)\n",
    "    ### TO-DO: Implement iterate. Fill Vkp1 (V_{k+1}) with the correct values. Vk is a dictionary.\n",
    "    for s in states:\n",
    "        ### ANSWER: Insert code here\n",
    "        Vkp1[s]=0.\n",
    "        for a in actions:\n",
    "            expected_return=0.\n",
    "            if is_terminal(s) or is_lava(s):\n",
    "                expected_return=0.\n",
    "            #elif is_terminal(next_state) or is_lava(next_state):\n",
    "            #    next_return = 0.0    \n",
    "            else:\n",
    "                for sp in states:\n",
    "                    expected_return+=transition[(s, a, sp)]*Vk[sp]\n",
    "                \n",
    "            \n",
    "            Vkp1[s]+=policy[(s, a)]*(reward[s]+gamma*expected_return)  \n",
    "        ### END of ANSWER\n",
    "    return Vkp1"
   ]
  },
  {
   "cell_type": "markdown",
   "id": "9694e03a-00f2-4cd7-babe-d9713b2704ee",
   "metadata": {
    "deletable": false,
    "editable": false,
    "nbgrader": {
     "cell_type": "markdown",
     "checksum": "074b410f2c968ceb48548030ac97f2d1",
     "grade": false,
     "grade_id": "cell-45ca91ab1daf658c",
     "locked": true,
     "schema_version": 3,
     "solution": false,
     "task": false
    }
   },
   "source": [
    "Now let's implement the whole algorithm!"
   ]
  },
  {
   "cell_type": "code",
   "execution_count": 6,
   "id": "1a06cb71-9822-4aec-a9bd-966436630de2",
   "metadata": {
    "deletable": false,
    "nbgrader": {
     "cell_type": "code",
     "checksum": "773ec835747f401514402b75e7126ec2",
     "grade": false,
     "grade_id": "cell-b210d1dc1e43ed73",
     "locked": false,
     "schema_version": 3,
     "solution": true,
     "task": false
    }
   },
   "outputs": [],
   "source": [
    "def ipe(gamma = 0.5, max_iters = 20):\n",
    "    V = {}\n",
    "    ### TO-DO: Initialize the value function (V) with zeros\n",
    "    ### ANSWER: Insert code here\n",
    "    for s in states:\n",
    "        V[s]=0.\n",
    "    ### END of ANSWER\n",
    "    \n",
    "    for i in range(max_iters):\n",
    "        ### TO-DO: Implement body for iterative policy evaluation\n",
    "        ### ANSWER: Insert code here\n",
    "        V=ipe_iter(V,gamma)\n",
    "        ### END of ANSWER\n",
    "    return V\n",
    "\n",
    "V = ipe(0.5, 20)\n"
   ]
  },
  {
   "cell_type": "code",
   "execution_count": 7,
   "id": "9e013d9b-4ee7-44cb-88e3-68cbabde7460",
   "metadata": {
    "deletable": false,
    "editable": false,
    "nbgrader": {
     "cell_type": "code",
     "checksum": "180e057c904fb8f07e49b60e2a859ea9",
     "grade": false,
     "grade_id": "cell-7351f68ea7688efd",
     "locked": true,
     "schema_version": 3,
     "solution": false,
     "task": false
    }
   },
   "outputs": [
    {
     "data": {
      "image/png": "[encoded data removed]",
      "text/plain": [
       "<Figure size 640x480 with 2 Axes>"
      ]
     },
     "metadata": {},
     "output_type": "display_data"
    },
    {
     "name": "stdout",
     "output_type": "stream",
     "text": [
      "{(0, 0): -2.4413716414811613, (0, 1): -3.4028429743390936, (0, 2): -3.3785295522563334, (0, 3): -2.2468642023764045, (1, 0): -3.245387444562612, (1, 1): -10.0, (1, 2): -10.0, (1, 3): -2.1026560277119195, (2, 0): -2.276340879957198, (2, 1): -2.8095311841053725, (2, 2): -1.199441486813182, (2, 3): 5.528271803483558, (3, 0): -1.8794679630979898, (3, 1): -1.000467355412784, (3, 2): 5.68572733326004, (3, 3): 50.0}\n"
     ]
    }
   ],
   "source": [
    "# Let's plot the value function\n",
    "def plot_value_function(V):\n",
    "    # Visualize Value function\n",
    "    _, ax = plt.subplots()\n",
    "    img = np.zeros((4, 4))\n",
    "    for state in states:\n",
    "        img[state] = V[state]\n",
    "    im = ax.imshow(img)\n",
    "    ax.figure.colorbar(im, ax=ax)\n",
    "    plt.show()\n",
    "\n",
    "plot_value_function(V)\n",
    "\n",
    "print(V)"
   ]
  },
  {
   "cell_type": "code",
   "execution_count": 8,
   "id": "7e8ca7a5-57e2-41b0-b792-4f14c5d12fe2",
   "metadata": {
    "deletable": false,
    "editable": false,
    "nbgrader": {
     "cell_type": "code",
     "checksum": "2185ee06e9fe2c715469e4dbc030d1e1",
     "grade": true,
     "grade_id": "cell-f65a44d23ce6c2ee",
     "locked": true,
     "points": 4,
     "schema_version": 3,
     "solution": false,
     "task": false
    }
   },
   "outputs": [],
   "source": [
    "assert(np.isclose(V[(0, 0)], -2.4413716414811613))\n",
    "assert(np.isclose(V[(3, 2)], 5.68572733326004))\n",
    "assert(np.isclose(V[(3, 3)], 50.))\n",
    "assert(np.isclose(V[(1, 1)], -10.))\n"
   ]
  },
  {
   "cell_type": "markdown",
   "id": "8a27dd3c-529f-4308-a9d9-36a2309774ed",
   "metadata": {
    "deletable": false,
    "editable": false,
    "nbgrader": {
     "cell_type": "markdown",
     "checksum": "d5bcb6c6c441bf64e8a22eab9a7e4a41",
     "grade": false,
     "grade_id": "cell-e4c1278ad6a4176b",
     "locked": true,
     "schema_version": 3,
     "solution": false,
     "task": false
    }
   },
   "source": [
    "Now let's create a policy that always chooses the 'Move Right' Action, and re-run the iterative policy evaluation!"
   ]
  },
  {
   "cell_type": "code",
   "execution_count": 9,
   "id": "1086a116-0b0e-464a-bfcd-69e4ad7a0261",
   "metadata": {
    "deletable": false,
    "nbgrader": {
     "cell_type": "code",
     "checksum": "80f39c7b116fdb22962fab553b6c2a79",
     "grade": false,
     "grade_id": "cell-a1a8fac0e9972dd2",
     "locked": false,
     "schema_version": 3,
     "solution": true,
     "task": false
    }
   },
   "outputs": [],
   "source": [
    "# Policy that alwas moves right!\n",
    "policy = {}\n",
    "### TO-DO: Create a policy that always moves right\n",
    "### ANSWER: Insert code here\n",
    "for s in states:\n",
    "    for a in actions:\n",
    "        if a==a3:\n",
    "            policy[(s, a)] = 1.\n",
    "        else: \n",
    "            policy[(s, a)] = 0.\n",
    "### END of ANSWER"
   ]
  },
  {
   "cell_type": "code",
   "execution_count": 10,
   "id": "22677a42-7833-4e4a-a973-b76f93622135",
   "metadata": {
    "deletable": false,
    "editable": false,
    "nbgrader": {
     "cell_type": "code",
     "checksum": "6093a0adfce6c9d33bf0774bf89df2f4",
     "grade": false,
     "grade_id": "cell-03c0c5cad0ab0d81",
     "locked": true,
     "schema_version": 3,
     "solution": false,
     "task": false
    }
   },
   "outputs": [],
   "source": [
    "# Re-run Iterative Policy Evaluation\n",
    "V = ipe(0.5, 20)"
   ]
  },
  {
   "cell_type": "code",
   "execution_count": 11,
   "id": "2eb09f0a-8279-4874-9f17-fabbdff711e9",
   "metadata": {
    "deletable": false,
    "editable": false,
    "nbgrader": {
     "cell_type": "code",
     "checksum": "c511ee1467b5dba92e0ac12e48c0bdac",
     "grade": false,
     "grade_id": "cell-1f117a2045b1982b",
     "locked": true,
     "schema_version": 3,
     "solution": false,
     "task": false
    }
   },
   "outputs": [
    {
     "data": {
      "image/png": "[encoded data removed]",
      "text/plain": [
       "<Figure size 640x480 with 2 Axes>"
      ]
     },
     "metadata": {},
     "output_type": "display_data"
    },
    {
     "name": "stdout",
     "output_type": "stream",
     "text": [
      "{(0, 0): -1.9999980926513672, (0, 1): -1.9999980926513672, (0, 2): -1.9999980926513672, (0, 3): -1.9999980926513672, (1, 0): -6.0, (1, 1): -10.0, (1, 2): -10.0, (1, 3): -1.9999980926513672, (2, 0): -1.9999980926513672, (2, 1): -1.9999980926513672, (2, 2): -1.9999980926513672, (2, 3): -1.9999980926513672, (3, 0): 4.5, (3, 1): 11.0, (3, 2): 24.0, (3, 3): 50.0}\n"
     ]
    }
   ],
   "source": [
    "plot_value_function(V)\n",
    "\n",
    "print(V)"
   ]
  },
  {
   "cell_type": "code",
   "execution_count": 12,
   "id": "2e2c0688-c517-4822-8c5f-3d3243530908",
   "metadata": {
    "deletable": false,
    "editable": false,
    "nbgrader": {
     "cell_type": "code",
     "checksum": "9cbdfebd9fb444afc63acf128ad5d965",
     "grade": true,
     "grade_id": "cell-f392ce37e5a6621d",
     "locked": true,
     "points": 2,
     "schema_version": 3,
     "solution": false,
     "task": false
    }
   },
   "outputs": [],
   "source": [
    "assert(np.isclose(V[(0, 0)], -1.9999980926513672))\n",
    "assert(np.isclose(V[(3, 2)], 24.))\n",
    "assert(np.isclose(V[(3, 3)], 50.))\n",
    "assert(np.isclose(V[(1, 1)], -10.))\n"
   ]
  },
  {
   "cell_type": "markdown",
   "id": "9d0630cf-1c23-4107-9e06-5471f30a6e00",
   "metadata": {
    "deletable": false,
    "editable": false,
    "nbgrader": {
     "cell_type": "markdown",
     "checksum": "395e4e20950bd72ed58529a738ed9306",
     "grade": false,
     "grade_id": "cell-cad6ee790e8dbdeb",
     "locked": true,
     "schema_version": 3,
     "solution": false,
     "task": false
    }
   },
   "source": [
    "### Policy Iteration\n",
    "\n",
    "**Goal:** Find the *optimal* policy\n",
    "\n",
    "- We start from an initial policy $\\pi_0$\n",
    "- Policy Evaluation to compute $V_{\\pi}^{k+1}(\\boldsymbol{s})$\n",
    "- (Greedy) Policy Improvement: $\\pi_{k+1}=\\max_{\\pi}V_{\\pi}^{k+1}(\\boldsymbol{s})$\n",
    "- As we increase the iterations, we get more accurate results\n",
    "- We can prove that it converges to the optimal policy\n",
    "\n",
    "Let's implement it for our world!"
   ]
  },
  {
   "cell_type": "code",
   "execution_count": 14,
   "id": "b5045ae6-310a-40ae-8222-b010b4a9c5ae",
   "metadata": {
    "deletable": false,
    "nbgrader": {
     "cell_type": "code",
     "checksum": "67f67fcba788e51dd7836ba42d22dfc0",
     "grade": false,
     "grade_id": "cell-31a9746fb03ddf21",
     "locked": false,
     "schema_version": 3,
     "solution": true,
     "task": false
    }
   },
   "outputs": [
    {
     "name": "stdout",
     "output_type": "stream",
     "text": [
      "{((0, 0), 'Move Up'): 0.0, ((0, 0), 'Move Left'): 0.0, ((0, 0), 'Move Right'): 0.5, ((0, 0), 'Move Down'): 0.5, ((0, 1), 'Move Up'): 0.0, ((0, 1), 'Move Left'): 0.0, ((0, 1), 'Move Right'): 1.0, ((0, 1), 'Move Down'): 0.0, ((0, 2), 'Move Up'): 0.0, ((0, 2), 'Move Left'): 0.0, ((0, 2), 'Move Right'): 1.0, ((0, 2), 'Move Down'): 0.0, ((0, 3), 'Move Up'): 0.0, ((0, 3), 'Move Left'): 0.0, ((0, 3), 'Move Right'): 0.0, ((0, 3), 'Move Down'): 1.0, ((1, 0), 'Move Up'): 0.0, ((1, 0), 'Move Left'): 0.0, ((1, 0), 'Move Right'): 0.0, ((1, 0), 'Move Down'): 1.0, ((1, 1), 'Move Up'): 0.25, ((1, 1), 'Move Left'): 0.25, ((1, 1), 'Move Right'): 0.25, ((1, 1), 'Move Down'): 0.25, ((1, 2), 'Move Up'): 0.25, ((1, 2), 'Move Left'): 0.25, ((1, 2), 'Move Right'): 0.25, ((1, 2), 'Move Down'): 0.25, ((1, 3), 'Move Up'): 0.0, ((1, 3), 'Move Left'): 0.0, ((1, 3), 'Move Right'): 0.0, ((1, 3), 'Move Down'): 1.0, ((2, 0), 'Move Up'): 0.0, ((2, 0), 'Move Left'): 0.0, ((2, 0), 'Move Right'): 0.5, ((2, 0), 'Move Down'): 0.5, ((2, 1), 'Move Up'): 0.0, ((2, 1), 'Move Left'): 0.0, ((2, 1), 'Move Right'): 0.5, ((2, 1), 'Move Down'): 0.5, ((2, 2), 'Move Up'): 0.0, ((2, 2), 'Move Left'): 0.0, ((2, 2), 'Move Right'): 0.5, ((2, 2), 'Move Down'): 0.5, ((2, 3), 'Move Up'): 0.0, ((2, 3), 'Move Left'): 0.0, ((2, 3), 'Move Right'): 0.0, ((2, 3), 'Move Down'): 1.0, ((3, 0), 'Move Up'): 0.0, ((3, 0), 'Move Left'): 0.0, ((3, 0), 'Move Right'): 1.0, ((3, 0), 'Move Down'): 0.0, ((3, 1), 'Move Up'): 0.0, ((3, 1), 'Move Left'): 0.0, ((3, 1), 'Move Right'): 1.0, ((3, 1), 'Move Down'): 0.0, ((3, 2), 'Move Up'): 0.0, ((3, 2), 'Move Left'): 0.0, ((3, 2), 'Move Right'): 1.0, ((3, 2), 'Move Down'): 0.0, ((3, 3), 'Move Up'): 0.25, ((3, 3), 'Move Left'): 0.25, ((3, 3), 'Move Right'): 0.25, ((3, 3), 'Move Down'): 0.25}\n"
     ]
    },
    {
     "data": {
      "image/png": "[encoded data removed]",
      "text/plain": [
       "<Figure size 640x480 with 2 Axes>"
      ]
     },
     "metadata": {},
     "output_type": "display_data"
    },
    {
     "name": "stdout",
     "output_type": "stream",
     "text": [
      "{(0, 0): -1.1875, (0, 1): -0.375, (0, 2): 1.25, (0, 3): 4.5, (1, 0): -0.375, (1, 1): -10.0, (1, 2): -10.0, (1, 3): 11.0, (2, 0): 1.25, (2, 1): 4.5, (2, 2): 11.0, (2, 3): 24.0, (3, 0): 4.5, (3, 1): 11.0, (3, 2): 24.0, (3, 3): 50.0}\n"
     ]
    }
   ],
   "source": [
    "V = {}\n",
    "### TO-DO: Initialize the value function (V) with zeros. Just copy from above\n",
    "### ANSWER: Insert code here\n",
    "V = {s: 0. for s in states}\n",
    "### END of ANSWER\n",
    "\n",
    "# Let's create an initial policy (uniform random)\n",
    "policy = {}\n",
    "for s in states:\n",
    "    for a in actions:\n",
    "        policy[(s, a)] = 1. / float(len(actions)) # uniform\n",
    "\n",
    "# Policy Iteration\n",
    "gamma = 0.5\n",
    "max_iters = 20\n",
    "for i in range(max_iters):\n",
    "    # At each iteration, we first perform Iterative Policy Evaluation\n",
    "    V = ipe(gamma)\n",
    "    # We, then, perform the Greedy Policy Improvement\n",
    "    ### TO-DO: Implement greedy policy improvement. In other words, we need to update the \"policy\" given the Value function (V)\n",
    "    ### ANSWER: Insert code here\n",
    "    for s in states:\n",
    "        value = {a: V[return_next_state(s, a)] for a in actions}\n",
    "        max_value = max(value.values())\n",
    "        best_actions = [a for a in actions if value[a] == max_value]\n",
    "        for a in actions:\n",
    "            policy[(s, a)] = 1. / len(best_actions) if a in best_actions else 0.\n",
    "    '''for s in states:\n",
    "        value={}\n",
    "        for a in actions:\n",
    "            next_state=None\n",
    "            next_state=return_next_state(s,a)\n",
    "            #for sp in states:\n",
    "            #    if transition[(s, a, sp)]==1.: \n",
    "            #        next_state=sp\n",
    "            #        break\n",
    "            value[a]=V[next_state]\n",
    "            #value[a]=(reward[s]+gamma*V[next_state])\n",
    "        best_action = max(value, key=value.get)\n",
    "        counter=0\n",
    "        ls=[]\n",
    "        for a in actions:\n",
    "            if value[a]<value[best_action]:\n",
    "                policy[(s,a)]=0.\n",
    "            else:\n",
    "                ls.append(a)\n",
    "                counter+=1\n",
    "        for a in ls:\n",
    "            policy[(s,a)]=float(1./counter)'''\n",
    "            \n",
    "    ### END of ANSWER\n",
    "\n",
    "print(policy)\n",
    "plot_value_function(V)\n",
    "print(V)"
   ]
  },
  {
   "cell_type": "code",
   "execution_count": 15,
   "id": "d49efaee-e39e-4add-931c-72a711d616da",
   "metadata": {
    "deletable": false,
    "editable": false,
    "nbgrader": {
     "cell_type": "code",
     "checksum": "6c9240a3a126e6a44e882f5f45c0d807",
     "grade": true,
     "grade_id": "cell-8b392d23d3bc1d8a",
     "locked": true,
     "points": 3,
     "schema_version": 3,
     "solution": false,
     "task": false
    }
   },
   "outputs": [],
   "source": [
    "assert(V[(0, 0)] == -1.1875)\n",
    "assert(V[(0, 1)] == -0.375)\n",
    "assert(V[(3, 3)] == 50.)\n",
    "assert(V[(3, 2)] == 24.)\n",
    "assert(V[(3, 1)] == 11.)\n",
    "\n",
    "for a in actions:\n",
    "    assert(policy[((3, 3), a)] == 0.25)\n",
    "assert(policy[((3, 2), 'Move Right')] == 1.)\n"
   ]
  },
  {
   "cell_type": "markdown",
   "id": "b3d294a5-1095-4579-bd25-5589863c2678",
   "metadata": {
    "deletable": false,
    "editable": false,
    "nbgrader": {
     "cell_type": "markdown",
     "checksum": "c72195bd9da09f4864316ed59428d3bb",
     "grade": false,
     "grade_id": "cell-a881411ddda7b086",
     "locked": true,
     "schema_version": 3,
     "solution": false,
     "task": false
    }
   },
   "source": [
    "### Value Iteration\n",
    "\n",
    "**Goal:** Find the *optimal* policy\n",
    "\n",
    "- Iterative application of the *Bellman Equations*\n",
    "- At each iteration $k+1$:\n",
    "  - For all states $\\boldsymbol{s}\\in\\mathcal{S}$\n",
    "  - Compute $V_*^{k+1}$ using $V_*^k$: $V_*^{k+1}(\\boldsymbol{s}) = \\max_{\\boldsymbol{a}}\\Big(R(\\boldsymbol{s},\\boldsymbol{a}) + \\gamma\\sum_{\\boldsymbol{s}'\\in\\mathcal{S}}P(\\boldsymbol{s},\\boldsymbol{a},\\boldsymbol{s}')V_*^k(\\boldsymbol{s}')\\Big)$\n",
    "- We can prove that this converges to the optimal Value function\n",
    "\n",
    "Let's implement it for our world!"
   ]
  },
  {
   "cell_type": "code",
   "execution_count": 16,
   "id": "b3240926-5f64-48d6-b9f2-4891f746f213",
   "metadata": {
    "deletable": false,
    "nbgrader": {
     "cell_type": "code",
     "checksum": "8bdf3eefd246cc8599fa3c132d86a3f5",
     "grade": false,
     "grade_id": "cell-1ea362d7c0cc95e7",
     "locked": false,
     "schema_version": 3,
     "solution": true,
     "task": false
    }
   },
   "outputs": [
    {
     "name": "stdout",
     "output_type": "stream",
     "text": [
      "{((0, 0), 'Move Up'): 0.0, ((0, 0), 'Move Left'): 0.0, ((0, 0), 'Move Right'): 0.5, ((0, 0), 'Move Down'): 0.5, ((0, 1), 'Move Up'): 0.0, ((0, 1), 'Move Left'): 0.0, ((0, 1), 'Move Right'): 1.0, ((0, 1), 'Move Down'): 0.0, ((0, 2), 'Move Up'): 0.0, ((0, 2), 'Move Left'): 0.0, ((0, 2), 'Move Right'): 1.0, ((0, 2), 'Move Down'): 0.0, ((0, 3), 'Move Up'): 0.0, ((0, 3), 'Move Left'): 0.0, ((0, 3), 'Move Right'): 0.0, ((0, 3), 'Move Down'): 1.0, ((1, 0), 'Move Up'): 0.0, ((1, 0), 'Move Left'): 0.0, ((1, 0), 'Move Right'): 0.0, ((1, 0), 'Move Down'): 1.0, ((1, 1), 'Move Up'): 0.25, ((1, 1), 'Move Left'): 0.25, ((1, 1), 'Move Right'): 0.25, ((1, 1), 'Move Down'): 0.25, ((1, 2), 'Move Up'): 0.25, ((1, 2), 'Move Left'): 0.25, ((1, 2), 'Move Right'): 0.25, ((1, 2), 'Move Down'): 0.25, ((1, 3), 'Move Up'): 0.0, ((1, 3), 'Move Left'): 0.0, ((1, 3), 'Move Right'): 0.0, ((1, 3), 'Move Down'): 1.0, ((2, 0), 'Move Up'): 0.0, ((2, 0), 'Move Left'): 0.0, ((2, 0), 'Move Right'): 0.5, ((2, 0), 'Move Down'): 0.5, ((2, 1), 'Move Up'): 0.0, ((2, 1), 'Move Left'): 0.0, ((2, 1), 'Move Right'): 0.5, ((2, 1), 'Move Down'): 0.5, ((2, 2), 'Move Up'): 0.0, ((2, 2), 'Move Left'): 0.0, ((2, 2), 'Move Right'): 0.5, ((2, 2), 'Move Down'): 0.5, ((2, 3), 'Move Up'): 0.0, ((2, 3), 'Move Left'): 0.0, ((2, 3), 'Move Right'): 0.0, ((2, 3), 'Move Down'): 1.0, ((3, 0), 'Move Up'): 0.0, ((3, 0), 'Move Left'): 0.0, ((3, 0), 'Move Right'): 1.0, ((3, 0), 'Move Down'): 0.0, ((3, 1), 'Move Up'): 0.0, ((3, 1), 'Move Left'): 0.0, ((3, 1), 'Move Right'): 1.0, ((3, 1), 'Move Down'): 0.0, ((3, 2), 'Move Up'): 0.0, ((3, 2), 'Move Left'): 0.0, ((3, 2), 'Move Right'): 1.0, ((3, 2), 'Move Down'): 0.0, ((3, 3), 'Move Up'): 0.25, ((3, 3), 'Move Left'): 0.25, ((3, 3), 'Move Right'): 0.25, ((3, 3), 'Move Down'): 0.25}\n"
     ]
    },
    {
     "data": {
      "image/png": "[encoded data removed]",
      "text/plain": [
       "<Figure size 640x480 with 2 Axes>"
      ]
     },
     "metadata": {},
     "output_type": "display_data"
    },
    {
     "name": "stdout",
     "output_type": "stream",
     "text": [
      "{(0, 0): -1.1875, (0, 1): -0.375, (0, 2): 1.25, (0, 3): 4.5, (1, 0): -0.375, (1, 1): -10.0, (1, 2): -10.0, (1, 3): 11.0, (2, 0): 1.25, (2, 1): 4.5, (2, 2): 11.0, (2, 3): 24.0, (3, 0): 4.5, (3, 1): 11.0, (3, 2): 24.0, (3, 3): 50.0}\n"
     ]
    }
   ],
   "source": [
    "V = {}\n",
    "### TO-DO: Initialize the value function (V) with zeros. Just copy from above\n",
    "### ANSWER: Insert code here\n",
    "V = {s: 0. for s in states}\n",
    "### END of ANSWER\n",
    "\n",
    "# Let's create an initial policy (uniform random)\n",
    "policy = {}\n",
    "for s in states:\n",
    "    for a in actions:\n",
    "        policy[(s, a)] = 1. / float(len(actions)) # uniform\n",
    "\n",
    "gamma = 0.5\n",
    "max_iters = 20\n",
    "for i in range(max_iters):\n",
    "    Vkp1 = copy.copy(V)\n",
    "    for s in states:\n",
    "        ### TO-DO: Implement iterate of Value Iteration. Compute Vkp1 (V_{k+1}) using the above equation.\n",
    "        ### ANSWER: Insert code here\n",
    "        dicti={}\n",
    "        for a in actions:\n",
    "            sum1=0\n",
    "            if is_terminal(s) or is_lava(s):\n",
    "                sum1=0.\n",
    "            else:\n",
    "                for sp in states:\n",
    "                    sum1+=transition[(s,a,sp)]*V[sp]                \n",
    "            dicti[a]=reward[s]+gamma*sum1\n",
    "        #best_action = max(dicti, key=dicti.get)\n",
    "        Vkp1[s]=max(dicti.values())\n",
    "        #print(best_action)\n",
    "    V = copy.copy(Vkp1)\n",
    "\n",
    "# In order to compute the final policy, we do Greedy Policy Improvement.\n",
    "\n",
    "### TO-DO: Implement greedy policy improvement (copy from before)\n",
    "### ANSWER: Insert code here\n",
    "gamma = 0.5\n",
    "max_iters = 20\n",
    "for i in range(max_iters):\n",
    "    # We, then, perform the Greedy Policy Improvement\n",
    "    ### TO-DO: Implement greedy policy improvement. In other words, we need to update the \"policy\" given the Value function (V)\n",
    "    ### ANSWER: Insert code here\n",
    "    for s in states:\n",
    "        value = {a: V[return_next_state(s, a)] for a in actions}\n",
    "        max_value = max(value.values())\n",
    "        best_actions = [a for a in actions if value[a] == max_value]\n",
    "        for a in actions:\n",
    "            policy[(s, a)] = 1. / len(best_actions) if a in best_actions else 0.\n",
    "        '''for a in actions:\n",
    "            next_state=None\n",
    "            next_state=return_next_state(s,a)\n",
    "            #for sp in states:\n",
    "            #    if transition[(s, a, sp)]==1.: \n",
    "            #        next_state=sp\n",
    "            #        break\n",
    "            value[a]=V[next_state]\n",
    "            #value[a]=(reward[s]+gamma*V[next_state])'''\n",
    "        '''counter=0\n",
    "        ls=[]\n",
    "        for a in actions:\n",
    "            if value[a]<value[best_action]:\n",
    "                policy[(s,a)]=0.\n",
    "            else:\n",
    "                ls.append(a)\n",
    "                counter+=1\n",
    "        for a in ls:\n",
    "            policy[(s,a)]=float(1./counter)'''\n",
    "### END of ANSWER\n",
    "\n",
    "print(policy)\n",
    "plot_value_function(V)\n",
    "print(V)"
   ]
  },
  {
   "cell_type": "code",
   "execution_count": 17,
   "id": "93cdc477-50f9-4ac9-9c63-cb095c652670",
   "metadata": {
    "deletable": false,
    "editable": false,
    "nbgrader": {
     "cell_type": "code",
     "checksum": "06a487b44db1111da32ae415ec939de8",
     "grade": true,
     "grade_id": "cell-a7e8772a4c0d907e",
     "locked": true,
     "points": 3,
     "schema_version": 3,
     "solution": false,
     "task": false
    }
   },
   "outputs": [],
   "source": [
    "assert(V[(0, 0)] == -1.1875)\n",
    "assert(V[(0, 1)] == -0.375)\n",
    "assert(V[(3, 3)] == 50.)\n",
    "assert(V[(3, 2)] == 24.)\n",
    "assert(V[(3, 1)] == 11.)\n",
    "\n",
    "for a in actions:\n",
    "    assert(policy[((3, 3), a)] == 0.25)\n",
    "assert(policy[((3, 2), 'Move Right')] == 1.)\n"
   ]
  },
  {
   "cell_type": "code",
   "execution_count": null,
   "id": "b9836743-8409-4e00-a2e7-a652b4e1adf4",
   "metadata": {},
   "outputs": [],
   "source": []
  }
 ],
 "metadata": {
  "kernelspec": {
   "display_name": "Python 3",
   "language": "python",
   "name": "python3"
  },
  "language_info": {
   "codemirror_mode": {
    "name": "ipython",
    "version": 3
   },
   "file_extension": ".py",
   "mimetype": "text/x-python",
   "name": "python",
   "nbconvert_exporter": "python",
   "pygments_lexer": "ipython3",
   "version": "3.11.2"
  }
 },
 "nbformat": 4,
 "nbformat_minor": 5
}
